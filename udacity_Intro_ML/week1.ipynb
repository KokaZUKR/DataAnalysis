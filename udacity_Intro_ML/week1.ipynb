{
 "cells": [
  {
   "cell_type": "code",
   "execution_count": 1,
   "metadata": {
    "collapsed": true
   },
   "outputs": [],
   "source": [
    "#sklearn naive Bayes"
   ]
  },
  {
   "cell_type": "code",
   "execution_count": 2,
   "metadata": {
    "collapsed": true
   },
   "outputs": [],
   "source": [
    "def NBAccuracy(features_train, labels_train, features_test, labels_test):\n",
    "    \"\"\" compute the accuracy of your Naive Bayes classifier \"\"\"\n",
    "    ### import the sklearn module for GaussianNB\n",
    "    from time import time\n",
    "    from sklearn.naive_bayes import GaussianNB\n",
    "    import sklearn.metrics\n",
    "\n",
    "    ### create classifier\n",
    "    \n",
    "    clf = GaussianNB()\n",
    "    \n",
    "\n",
    "    ### fit the classifier on the training features and labels\n",
    "    t0 = time()\n",
    "    clf.fit(features_train, labels_train)\n",
    "    print(\"training time:\", round(time()-t0, 3), \"s\")\n",
    "\n",
    "    ### use the trained classifier to predict labels for the test features\n",
    "    t0 = time()\n",
    "    pred = clf.predict(features_test)\n",
    "    print(\"testing time:\", round(time()-t0, 3), \"s\")\n",
    "\n",
    "\n",
    "    ### calculate and return the accuracy on the test data\n",
    "    ### this is slightly different than the example, \n",
    "    ### where we just print the accuracy\n",
    "    ### you might need to import an sklearn module\n",
    "    accuracy = sklearn.metrics.accuracy_score(labels_test, pred)\n",
    "    return accuracy"
   ]
  },
  {
   "cell_type": "code",
   "execution_count": 3,
   "metadata": {
    "collapsed": true
   },
   "outputs": [],
   "source": [
    "#sklearn SVM"
   ]
  },
  {
   "cell_type": "code",
   "execution_count": 4,
   "metadata": {
    "collapsed": true
   },
   "outputs": [],
   "source": [
    "def SVMAccuracy(features_train, labels_train, features_test, labels_test):\n",
    "    \"\"\" compute the accuracy of your Naive Bayes classifier \"\"\"\n",
    "    ### import the sklearn module for GaussianNB\n",
    "    from time import time\n",
    "    from sklearn import svm\n",
    "    import sklearn.metrics\n",
    "\n",
    "    ### create classifier\n",
    "    \n",
    "    clf = svm.SVC()\n",
    "    \n",
    "\n",
    "    ### fit the classifier on the training features and labels\n",
    "    t0 = time()\n",
    "    clf.fit(features_train, labels_train)\n",
    "    print(\"training time:\", round(time()-t0, 3), \"s\")\n",
    "\n",
    "    ### use the trained classifier to predict labels for the test features\n",
    "    t0 = time()\n",
    "    pred = clf.predict(features_test)\n",
    "    print(\"testing time:\", round(time()-t0, 3), \"s\")\n",
    "\n",
    "\n",
    "    ### calculate and return the accuracy on the test data\n",
    "    ### this is slightly different than the example, \n",
    "    ### where we just print the accuracy\n",
    "    ### you might need to import an sklearn module\n",
    "    accuracy = sklearn.metrics.accuracy_score(labels_test, pred)\n",
    "    return accuracy"
   ]
  },
  {
   "cell_type": "code",
   "execution_count": 5,
   "metadata": {
    "collapsed": false
   },
   "outputs": [],
   "source": [
    "#mini-project"
   ]
  },
  {
   "cell_type": "code",
   "execution_count": 6,
   "metadata": {
    "collapsed": true
   },
   "outputs": [],
   "source": [
    "#load the data:\n",
    "# - authors \n",
    "# - texts\n",
    "#Dividing the data into train and test sets\n",
    "#Vectorizing (from words(strings) to numbers)\n",
    "#Feature selection"
   ]
  },
  {
   "cell_type": "code",
   "execution_count": 7,
   "metadata": {
    "collapsed": false
   },
   "outputs": [
    {
     "name": "stdout",
     "output_type": "stream",
     "text": [
      "no. of Chris training emails: 7936\n",
      "no. of Sara training emails: 7884\n"
     ]
    }
   ],
   "source": [
    "import pickle\n",
    "import numpy\n",
    "\n",
    "from sklearn import cross_validation\n",
    "from sklearn.feature_extraction.text import TfidfVectorizer\n",
    "from sklearn.feature_selection import SelectPercentile, f_classif\n",
    "\n",
    "authors_file_handler = open(\"./ud120-projects-master/tools/email_authors.pkl\", \"rb\")\n",
    "authors = pickle.load(authors_file_handler)\n",
    "authors_file_handler.close()\n",
    "\n",
    "words_file_handler = open(\"./ud120-projects-master/tools/word_data.pkl\", \"rb\")\n",
    "word_data = pickle.load(words_file_handler)\n",
    "words_file_handler.close()\n",
    "\n",
    "### test_size is the percentage of events assigned to the test set\n",
    "### (remainder go into training)\n",
    "features_train, features_test, labels_train, labels_test = cross_validation.train_test_split(word_data, authors, test_size=0.1, random_state=42)\n",
    "\n",
    "### text vectorization--go from strings to lists of numbers\n",
    "vectorizer = TfidfVectorizer(sublinear_tf=True, max_df=0.5, stop_words='english')\n",
    "features_train_transformed = vectorizer.fit_transform(features_train)\n",
    "features_test_transformed  = vectorizer.transform(features_test)\n",
    "\n",
    "\n",
    "\n",
    "### feature selection, because text is super high dimensional and \n",
    "### can be really computationally chewy as a result\n",
    "selector = SelectPercentile(f_classif, percentile=10)\n",
    "selector.fit(features_train_transformed, labels_train)\n",
    "features_train_transformed = selector.transform(features_train_transformed).toarray()\n",
    "features_test_transformed  = selector.transform(features_test_transformed).toarray()\n",
    "\n",
    "### info on the data\n",
    "print(\"no. of Chris training emails:\", sum(labels_train))\n",
    "print(\"no. of Sara training emails:\", len(labels_train)-sum(labels_train))"
   ]
  },
  {
   "cell_type": "code",
   "execution_count": 8,
   "metadata": {
    "collapsed": true
   },
   "outputs": [],
   "source": [
    "?f_classif"
   ]
  },
  {
   "cell_type": "code",
   "execution_count": 9,
   "metadata": {
    "collapsed": true
   },
   "outputs": [],
   "source": [
    "#Displaying the results"
   ]
  },
  {
   "cell_type": "code",
   "execution_count": 10,
   "metadata": {
    "collapsed": false
   },
   "outputs": [
    {
     "name": "stdout",
     "output_type": "stream",
     "text": [
      "training time: 1.316 s\n",
      "testing time: 0.199 s\n",
      "0.973265073948\n"
     ]
    }
   ],
   "source": [
    "accuracy = NBAccuracy(features_train_transformed, labels_train, features_test_transformed, labels_test)\n",
    "print(accuracy)"
   ]
  },
  {
   "cell_type": "code",
   "execution_count": 27,
   "metadata": {
    "collapsed": false
   },
   "outputs": [
    {
     "data": {
      "text/plain": [
       "(0,\n",
       " '  forward by  houect on 091399 0309 pm lopez aufranc patricia plamarvalcomar on 091099 010700 pm to  houectect cc subject rv memo on deriv see attach est mensaj es confidenci pued conten informacion amparada por el secreto profesion si ust ha recibido est email por error por favor comuniquenoslo inmediatament via email y tenga la amabilidad de eliminarlo de su sistema no debera copiar el mensaj ni divulgar su contenido a ninguna persona mucha gracia this messag is confidenti it may also contain inform that is privileg or otherwis legal exempt from disclosur if you have receiv it by mistak pleas let us know by email immedi and delet it from your system should also not copi the messag nor disclos it content to anyon mani thank att1unk')"
      ]
     },
     "execution_count": 27,
     "metadata": {},
     "output_type": "execute_result"
    }
   ],
   "source": [
    "list(zip(authors, word_data))[3000]"
   ]
  },
  {
   "cell_type": "code",
   "execution_count": null,
   "metadata": {
    "collapsed": false
   },
   "outputs": [],
   "source": []
  },
  {
   "cell_type": "code",
   "execution_count": null,
   "metadata": {
    "collapsed": true
   },
   "outputs": [],
   "source": []
  }
 ],
 "metadata": {
  "kernelspec": {
   "display_name": "Python 3",
   "language": "python",
   "name": "python3"
  },
  "language_info": {
   "codemirror_mode": {
    "name": "ipython",
    "version": 3
   },
   "file_extension": ".py",
   "mimetype": "text/x-python",
   "name": "python",
   "nbconvert_exporter": "python",
   "pygments_lexer": "ipython3",
   "version": "3.5.1"
  }
 },
 "nbformat": 4,
 "nbformat_minor": 0
}
