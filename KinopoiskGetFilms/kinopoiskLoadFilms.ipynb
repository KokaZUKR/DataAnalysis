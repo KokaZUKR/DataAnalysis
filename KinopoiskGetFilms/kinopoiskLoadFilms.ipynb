{
 "cells": [
  {
   "cell_type": "code",
   "execution_count": 76,
   "metadata": {
    "collapsed": true
   },
   "outputs": [],
   "source": [
    "import json\n",
    "import urllib.request\n",
    "import pandas as pd\n",
    "import numpy as np"
   ]
  },
  {
   "cell_type": "code",
   "execution_count": 77,
   "metadata": {
    "collapsed": false
   },
   "outputs": [
    {
     "name": "stdout",
     "output_type": "stream",
     "text": [
      "['ratingMPAA', 'budgetData', 'ratingData', 'is3D', 'posterURL', 'webURL', 'filmLength', 'ratingAgeLimits', 'videoURL', 'genre', 'nameEN', 'hasSeance', 'isHasSimilarFilms', 'filmID', 'reviewsCount', 'country', 'isIMAX', 'isHasSequelsAndPrequelsFilms', 'rentData']\n"
     ]
    }
   ],
   "source": [
    "#creating a vector containing the columns names of a DataFrame\n",
    "names = ['ratingMPAA', 'budgetData', 'ratingData', \n",
    "         'is3D', 'posterURL', 'webURL', 'filmLength', \n",
    "         'ratingAgeLimits', 'videoURL', 'genre', 'nameEN', 'hasSeance', 'isHasSimilarFilms', \n",
    "         'filmID', 'reviewsCount', 'country', 'isIMAX', 'isHasSequelsAndPrequelsFilms', 'rentData', \n",
    "         ]\n",
    "print(names)"
   ]
  },
  {
   "cell_type": "code",
   "execution_count": 5,
   "metadata": {
    "collapsed": false
   },
   "outputs": [],
   "source": [
    "#Write a function to get the data about the Film by ID\n",
    "def getFilm(id):\n",
    "    \"\"\"\n",
    "    Input: kinopoisk ID of the Movie\n",
    "    Output: JSON object\n",
    "    \"\"\"\n",
    "    URL = 'http://api.kinopoisk.cf/getFilm?filmID=%s'%id\n",
    "    result = urllib.request.urlopen(URL)\n",
    "    encoding = 'utf-8'\n",
    "    json_text = result.read().decode(encoding)\n",
    "    if json_text == 'null':\n",
    "        return None\n",
    "    else:\n",
    "        return json.loads(json_text)"
   ]
  },
  {
   "cell_type": "code",
   "execution_count": 6,
   "metadata": {
    "collapsed": false
   },
   "outputs": [],
   "source": [
    "#Write a function that creates a DataFrame based on JSON object\n",
    "def totalDataSet(json_file, filmId):\n",
    "    \"\"\"\n",
    "    Input: JSON file containing an information about the Film, kinopoisk ID of the Movie\n",
    "    Output: Pandas DataFrame    \n",
    "    \"\"\"\n",
    "    totalFrame = pd.DataFrame(index=[filmId], columns=['FilmID'], data=[filmId])\n",
    "    for name in names:\n",
    "        if name not in json_file.keys():\n",
    "            if name in ['budgetData', 'ratingData', 'rentData']:\n",
    "                data = pd.DataFrame([\"NaN\"], index=[filmId])\n",
    "                totalFrame = pd.concat([totalFrame, data], axis=1)\n",
    "            else:\n",
    "                data = pd.DataFrame([\"NaN\"], index=[filmId], columns=[name])\n",
    "                totalFrame = pd.concat([totalFrame, data], axis=1)\n",
    "        elif name in ['budgetData', 'ratingData', 'rentData', ]:\n",
    "            data = pd.DataFrame(json_file[name], index=[filmId])\n",
    "            totalFrame = pd.concat([totalFrame, data], axis=1)\n",
    "        else:\n",
    "            data = pd.DataFrame(json_file[name], index=[filmId], columns=[name])\n",
    "            totalFrame = pd.concat([totalFrame, data], axis=1)\n",
    "    return totalFrame"
   ]
  },
  {
   "cell_type": "code",
   "execution_count": 138,
   "metadata": {
    "collapsed": false
   },
   "outputs": [],
   "source": [
    "def getFilmsbyRange(params):\n",
    "    \"\"\"\n",
    "    Getting data for the films with ID between [startId, endId) and returning a tuple (df, filename)\n",
    "    Input: startId, endId\n",
    "    Output: file containing the dataframe\n",
    "    \"\"\"\n",
    "    startId = params[0]\n",
    "    endId = params[1]\n",
    "    filename = \"moviesID%s_%s.pkl\"%(startId, endId)\n",
    "    frame_to_save = pd.DataFrame(index=[0], columns=['FilmID'], data=[None])\n",
    "    for i in range(startId, endId):\n",
    "        json_film = getFilm(i)\n",
    "        if json_film is None:\n",
    "            return None\n",
    "        df_film = totalDataSet(json_film, i)\n",
    "        if df_film is not None:\n",
    "            if 0 in df_film.columns:\n",
    "                df_film = df_film.drop(0, 1)\n",
    "            df_film.drop_duplicates(keep=False)\n",
    "        frame_to_save = frame_to_save.append(df_film)\n",
    "    return (frame_to_save, filename)"
   ]
  },
  {
   "cell_type": "code",
   "execution_count": 72,
   "metadata": {
    "collapsed": true
   },
   "outputs": [],
   "source": [
    "def saveDFToFile(data):\n",
    "    \"\"\"\n",
    "    Input: tuple (df, filename), where df is a dataframe\n",
    "    Output: file containing the df\n",
    "    \"\"\"\n",
    "    filename = data[1]\n",
    "    dataframe = data[0]\n",
    "    import pickle\n",
    "    file = open(filename, 'wb')\n",
    "    pickle.dump(dataframe, file)\n",
    "    file.close()\n",
    "    print(\"Everything is fine. Data is saved.\")"
   ]
  },
  {
   "cell_type": "code",
   "execution_count": 73,
   "metadata": {
    "collapsed": true
   },
   "outputs": [],
   "source": [
    "def getResfromPickle(filename):\n",
    "    \"\"\"\n",
    "    Simply opens a file and loads a dataframe from it\n",
    "    Input: filename\n",
    "    Output: dataframe\n",
    "    \"\"\"\n",
    "    import pickle\n",
    "    file = open(filename, 'rb')\n",
    "    resultDF = pickle.load(file)\n",
    "    file.close()\n",
    "    return resultDF"
   ]
  },
  {
   "cell_type": "code",
   "execution_count": 75,
   "metadata": {
    "collapsed": false
   },
   "outputs": [],
   "source": [
    "#example usage. Getting films from 1000 to 2000\n",
    "filmData = get1000films(1000, 2000)"
   ]
  },
  {
   "cell_type": "code",
   "execution_count": 68,
   "metadata": {
    "collapsed": false
   },
   "outputs": [],
   "source": [
    "#saving data\n",
    "saveDFToFile(filmData)"
   ]
  },
  {
   "cell_type": "code",
   "execution_count": 82,
   "metadata": {
    "collapsed": false
   },
   "outputs": [
    {
     "data": {
      "text/html": [
       "<div>\n",
       "<table border=\"1\" class=\"dataframe\">\n",
       "  <thead>\n",
       "    <tr style=\"text-align: right;\">\n",
       "      <th></th>\n",
       "      <th>FilmID</th>\n",
       "      <th>budget</th>\n",
       "      <th>country</th>\n",
       "      <th>distributorRelease</th>\n",
       "      <th>filmID</th>\n",
       "      <th>filmLength</th>\n",
       "      <th>genre</th>\n",
       "      <th>grossUSA</th>\n",
       "      <th>grossWorld</th>\n",
       "      <th>hasSeance</th>\n",
       "      <th>...</th>\n",
       "      <th>ratingFilmCriticsVoteCount</th>\n",
       "      <th>ratingGoodReview</th>\n",
       "      <th>ratingGoodReviewVoteCount</th>\n",
       "      <th>ratingIMDb</th>\n",
       "      <th>ratingIMDbVoteCount</th>\n",
       "      <th>ratingMPAA</th>\n",
       "      <th>ratingVoteCount</th>\n",
       "      <th>reviewsCount</th>\n",
       "      <th>videoURL</th>\n",
       "      <th>webURL</th>\n",
       "    </tr>\n",
       "  </thead>\n",
       "  <tbody>\n",
       "    <tr>\n",
       "      <th>0</th>\n",
       "      <td>NaN</td>\n",
       "      <td>NaN</td>\n",
       "      <td>NaN</td>\n",
       "      <td>NaN</td>\n",
       "      <td>NaN</td>\n",
       "      <td>NaN</td>\n",
       "      <td>NaN</td>\n",
       "      <td>NaN</td>\n",
       "      <td>NaN</td>\n",
       "      <td>NaN</td>\n",
       "      <td>...</td>\n",
       "      <td>NaN</td>\n",
       "      <td>NaN</td>\n",
       "      <td>NaN</td>\n",
       "      <td>NaN</td>\n",
       "      <td>NaN</td>\n",
       "      <td>NaN</td>\n",
       "      <td>NaN</td>\n",
       "      <td>NaN</td>\n",
       "      <td>NaN</td>\n",
       "      <td>NaN</td>\n",
       "    </tr>\n",
       "    <tr>\n",
       "      <th>1100</th>\n",
       "      <td>1100</td>\n",
       "      <td>NaN</td>\n",
       "      <td>Германия, США</td>\n",
       "      <td>NaN</td>\n",
       "      <td>1100</td>\n",
       "      <td>1:35</td>\n",
       "      <td>драма, комедия</td>\n",
       "      <td>912 082</td>\n",
       "      <td>NaN</td>\n",
       "      <td>NaN</td>\n",
       "      <td>...</td>\n",
       "      <td>26</td>\n",
       "      <td>NaN</td>\n",
       "      <td>NaN</td>\n",
       "      <td>5.3</td>\n",
       "      <td>2 266</td>\n",
       "      <td>PG-13</td>\n",
       "      <td>38</td>\n",
       "      <td>NaN</td>\n",
       "      <td>NaN</td>\n",
       "      <td>http://www.kinopoisk.ru/film/1100/</td>\n",
       "    </tr>\n",
       "    <tr>\n",
       "      <th>1101</th>\n",
       "      <td>1101</td>\n",
       "      <td>NaN</td>\n",
       "      <td>США</td>\n",
       "      <td>NaN</td>\n",
       "      <td>1101</td>\n",
       "      <td>1:47</td>\n",
       "      <td>драма, биография</td>\n",
       "      <td>89 611</td>\n",
       "      <td>NaN</td>\n",
       "      <td>NaN</td>\n",
       "      <td>...</td>\n",
       "      <td>NaN</td>\n",
       "      <td>NaN</td>\n",
       "      <td>NaN</td>\n",
       "      <td>6.6</td>\n",
       "      <td>1 161</td>\n",
       "      <td>PG</td>\n",
       "      <td>42</td>\n",
       "      <td>NaN</td>\n",
       "      <td>NaN</td>\n",
       "      <td>http://www.kinopoisk.ru/film/1101/</td>\n",
       "    </tr>\n",
       "    <tr>\n",
       "      <th>1102</th>\n",
       "      <td>1102</td>\n",
       "      <td>40 000 000</td>\n",
       "      <td>Великобритания, Япония</td>\n",
       "      <td>NaN</td>\n",
       "      <td>1102</td>\n",
       "      <td>2:02</td>\n",
       "      <td>драма, комедия</td>\n",
       "      <td>1 519 366</td>\n",
       "      <td>NaN</td>\n",
       "      <td>NaN</td>\n",
       "      <td>...</td>\n",
       "      <td>12</td>\n",
       "      <td>50%</td>\n",
       "      <td>1</td>\n",
       "      <td>5.3</td>\n",
       "      <td>3 249</td>\n",
       "      <td>PG-13</td>\n",
       "      <td>390</td>\n",
       "      <td>4</td>\n",
       "      <td>NaN</td>\n",
       "      <td>http://www.kinopoisk.ru/film/1102/</td>\n",
       "    </tr>\n",
       "    <tr>\n",
       "      <th>1103</th>\n",
       "      <td>1103</td>\n",
       "      <td>13 000 000</td>\n",
       "      <td>США</td>\n",
       "      <td>NaN</td>\n",
       "      <td>1103</td>\n",
       "      <td>1:38</td>\n",
       "      <td>мелодрама, комедия</td>\n",
       "      <td>3 125 424</td>\n",
       "      <td>NaN</td>\n",
       "      <td>NaN</td>\n",
       "      <td>...</td>\n",
       "      <td>19</td>\n",
       "      <td>100%</td>\n",
       "      <td>2</td>\n",
       "      <td>5.9</td>\n",
       "      <td>2 589</td>\n",
       "      <td>PG-13</td>\n",
       "      <td>169</td>\n",
       "      <td>2</td>\n",
       "      <td>NaN</td>\n",
       "      <td>http://www.kinopoisk.ru/film/1103/</td>\n",
       "    </tr>\n",
       "  </tbody>\n",
       "</table>\n",
       "<p>5 rows × 33 columns</p>\n",
       "</div>"
      ],
      "text/plain": [
       "      FilmID      budget                 country distributorRelease filmID  \\\n",
       "0        NaN         NaN                     NaN                NaN    NaN   \n",
       "1100    1100         NaN           Германия, США                NaN   1100   \n",
       "1101    1101         NaN                     США                NaN   1101   \n",
       "1102    1102  40 000 000  Великобритания, Япония                NaN   1102   \n",
       "1103    1103  13 000 000                     США                NaN   1103   \n",
       "\n",
       "     filmLength               genre   grossUSA grossWorld hasSeance  \\\n",
       "0           NaN                 NaN        NaN        NaN       NaN   \n",
       "1100       1:35      драма, комедия    912 082        NaN       NaN   \n",
       "1101       1:47    драма, биография     89 611        NaN       NaN   \n",
       "1102       2:02      драма, комедия  1 519 366        NaN       NaN   \n",
       "1103       1:38  мелодрама, комедия  3 125 424        NaN       NaN   \n",
       "\n",
       "                     ...                 ratingFilmCriticsVoteCount  \\\n",
       "0                    ...                                        NaN   \n",
       "1100                 ...                                         26   \n",
       "1101                 ...                                        NaN   \n",
       "1102                 ...                                         12   \n",
       "1103                 ...                                         19   \n",
       "\n",
       "     ratingGoodReview ratingGoodReviewVoteCount ratingIMDb  \\\n",
       "0                 NaN                       NaN        NaN   \n",
       "1100              NaN                       NaN        5.3   \n",
       "1101              NaN                       NaN        6.6   \n",
       "1102              50%                         1        5.3   \n",
       "1103             100%                         2        5.9   \n",
       "\n",
       "     ratingIMDbVoteCount ratingMPAA ratingVoteCount reviewsCount videoURL  \\\n",
       "0                    NaN        NaN             NaN          NaN      NaN   \n",
       "1100               2 266      PG-13              38          NaN      NaN   \n",
       "1101               1 161         PG              42          NaN      NaN   \n",
       "1102               3 249      PG-13             390            4      NaN   \n",
       "1103               2 589      PG-13             169            2      NaN   \n",
       "\n",
       "                                  webURL  \n",
       "0                                    NaN  \n",
       "1100  http://www.kinopoisk.ru/film/1100/  \n",
       "1101  http://www.kinopoisk.ru/film/1101/  \n",
       "1102  http://www.kinopoisk.ru/film/1102/  \n",
       "1103  http://www.kinopoisk.ru/film/1103/  \n",
       "\n",
       "[5 rows x 33 columns]"
      ]
     },
     "execution_count": 82,
     "metadata": {},
     "output_type": "execute_result"
    }
   ],
   "source": [
    "#loading data from a file\n",
    "getResfromPickle(\"./moviesID1100_1150.pkl\").head()"
   ]
  },
  {
   "cell_type": "markdown",
   "metadata": {},
   "source": [
    "# Using multiprocessing"
   ]
  },
  {
   "cell_type": "code",
   "execution_count": 141,
   "metadata": {
    "collapsed": false
   },
   "outputs": [],
   "source": [
    "from multiprocessing import Pool\n",
    "from multiprocessing.dummy import Pool as ThreadPool\n",
    "\n",
    "pool = ThreadPool(8)"
   ]
  },
  {
   "cell_type": "code",
   "execution_count": 139,
   "metadata": {
    "collapsed": false
   },
   "outputs": [],
   "source": [
    "#%%time\n",
    "a = [[1000*i, 0] for i in range(1,50)]\n",
    "b = [[0, 1000+1000*k] for k in range(1,50)]\n",
    "\n",
    "for i in range(len(a)):\n",
    "    a[i][1] = b[i][1]\n",
    "    a[i] = tuple(a[i])"
   ]
  },
  {
   "cell_type": "code",
   "execution_count": 144,
   "metadata": {
    "collapsed": false
   },
   "outputs": [],
   "source": [
    "pool.map(getFilmsbyRange, a)"
   ]
  }
 ],
 "metadata": {
  "kernelspec": {
   "display_name": "Python 3",
   "language": "python",
   "name": "python3"
  },
  "language_info": {
   "codemirror_mode": {
    "name": "ipython",
    "version": 3
   },
   "file_extension": ".py",
   "mimetype": "text/x-python",
   "name": "python",
   "nbconvert_exporter": "python",
   "pygments_lexer": "ipython3",
   "version": "3.5.1"
  }
 },
 "nbformat": 4,
 "nbformat_minor": 0
}
