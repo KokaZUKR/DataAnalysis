{
 "cells": [
  {
   "cell_type": "code",
   "execution_count": 1,
   "metadata": {
    "collapsed": true
   },
   "outputs": [],
   "source": [
    "import json\n",
    "import urllib.request\n",
    "import pandas as pd\n",
    "import numpy as np"
   ]
  },
  {
   "cell_type": "code",
   "execution_count": 2,
   "metadata": {
    "collapsed": false
   },
   "outputs": [
    {
     "name": "stdout",
     "output_type": "stream",
     "text": [
      "['ratingMPAA', 'budgetData', 'ratingData', 'is3D', 'posterURL', 'webURL', 'filmLength', 'ratingAgeLimits', 'videoURL', 'genre', 'nameEN', 'hasSeance', 'isHasSimilarFilms', 'filmID', 'reviewsCount', 'country', 'isIMAX', 'isHasSequelsAndPrequelsFilms', 'rentData']\n"
     ]
    }
   ],
   "source": [
    "#creating a vector containing the columns names of a DataFrame\n",
    "names = ['ratingMPAA', 'budgetData', 'ratingData', \n",
    "         'is3D', 'posterURL', 'webURL', 'filmLength', \n",
    "         'ratingAgeLimits', 'videoURL', 'genre', 'nameEN', 'hasSeance', 'isHasSimilarFilms', \n",
    "         'filmID', 'reviewsCount', 'country', 'isIMAX', 'isHasSequelsAndPrequelsFilms', 'rentData', \n",
    "         ]\n",
    "print(names)"
   ]
  },
  {
   "cell_type": "code",
   "execution_count": 3,
   "metadata": {
    "collapsed": false
   },
   "outputs": [],
   "source": [
    "#Write a function to get the data about the Film by ID\n",
    "def getFilm(id):\n",
    "    \"\"\"\n",
    "    Input: kinopoisk ID of the Movie\n",
    "    Output: JSON object\n",
    "    \"\"\"\n",
    "    URL = 'http://api.kinopoisk.cf/getFilm?filmID=%s'%id\n",
    "    result = urllib.request.urlopen(URL)\n",
    "    encoding = 'utf-8'\n",
    "    json_text = result.read().decode(encoding)\n",
    "    if json_text == 'null':\n",
    "        return None\n",
    "    else:\n",
    "        return json.loads(json_text)"
   ]
  },
  {
   "cell_type": "code",
   "execution_count": 4,
   "metadata": {
    "collapsed": false
   },
   "outputs": [],
   "source": [
    "#Write a function that creates a DataFrame based on JSON object\n",
    "def totalDataSet(json_file, filmId):\n",
    "    \"\"\"\n",
    "    Input: JSON file containing an information about the Film, kinopoisk ID of the Movie\n",
    "    Output: Pandas DataFrame    \n",
    "    \"\"\"\n",
    "    totalFrame = pd.DataFrame(index=[filmId], columns=['FilmID'], data=[filmId])\n",
    "    for name in names:\n",
    "        if name not in json_file.keys():\n",
    "            if name in ['budgetData', 'ratingData', 'rentData']:\n",
    "                data = pd.DataFrame([\"NaN\"], index=[filmId])\n",
    "                totalFrame = pd.concat([totalFrame, data], axis=1)\n",
    "            else:\n",
    "                data = pd.DataFrame([\"NaN\"], index=[filmId], columns=[name])\n",
    "                totalFrame = pd.concat([totalFrame, data], axis=1)\n",
    "        elif name in ['budgetData', 'ratingData', 'rentData', ]:\n",
    "            data = pd.DataFrame(json_file[name], index=[filmId])\n",
    "            totalFrame = pd.concat([totalFrame, data], axis=1)\n",
    "        else:\n",
    "            data = pd.DataFrame(json_file[name], index=[filmId], columns=[name])\n",
    "            totalFrame = pd.concat([totalFrame, data], axis=1)\n",
    "    return totalFrame"
   ]
  },
  {
   "cell_type": "code",
   "execution_count": 5,
   "metadata": {
    "collapsed": false
   },
   "outputs": [],
   "source": [
    "def getFilmsbyRange(startId):\n",
    "    \"\"\"\n",
    "    Getting data for the films with ID between [startId, endId) and returning a tuple (df, filename)\n",
    "    Input: startId, endId\n",
    "    Output: file containing the dataframe\n",
    "    \"\"\"\n",
    "    endId = startId + 1000\n",
    "    filename = \"./data/moviesID%s_%s.pkl\"%(startId, endId)\n",
    "    frame_to_save = pd.DataFrame(index=[0], columns=['FilmID'], data=[None])\n",
    "    for i in range(startId, endId):\n",
    "        json_film = getFilm(i)\n",
    "        #print(json_film)\n",
    "        if json_film is None:\n",
    "            continue\n",
    "        df_film = totalDataSet(json_film, i)\n",
    "        if df_film is not None:\n",
    "            if 0 in df_film.columns:\n",
    "                df_film = df_film.drop(0, 1)\n",
    "            df_film.drop_duplicates(keep=False)\n",
    "        frame_to_save = frame_to_save.append(df_film)\n",
    "    #print(frame_to_save)\n",
    "    print(\"OK\")\n",
    "    return (frame_to_save, filename)"
   ]
  },
  {
   "cell_type": "code",
   "execution_count": 6,
   "metadata": {
    "collapsed": true
   },
   "outputs": [],
   "source": [
    "def saveDFToFile(data):\n",
    "    \"\"\"\n",
    "    Input: tuple (df, filename), where df is a dataframe\n",
    "    Output: file containing the df\n",
    "    \"\"\"\n",
    "    filename = data[1]\n",
    "    dataframe = data[0]\n",
    "    import pickle\n",
    "    file = open(filename, 'wb')\n",
    "    pickle.dump(dataframe, file)\n",
    "    file.close()\n",
    "    print(\"Everything is fine. Data is saved.\")"
   ]
  },
  {
   "cell_type": "code",
   "execution_count": 7,
   "metadata": {
    "collapsed": true
   },
   "outputs": [],
   "source": [
    "def getResfromPickle(filename):\n",
    "    \"\"\"\n",
    "    Simply opens a file and loads a dataframe from it\n",
    "    Input: filename\n",
    "    Output: dataframe\n",
    "    \"\"\"\n",
    "    import pickle\n",
    "    file = open(filename, 'rb')\n",
    "    resultDF = pickle.load(file)\n",
    "    file.close()\n",
    "    return resultDF"
   ]
  },
  {
   "cell_type": "code",
   "execution_count": 8,
   "metadata": {
    "collapsed": false
   },
   "outputs": [],
   "source": [
    "#example usage. Getting films from 1000 to 2000\n",
    "#filmData = getFilmsbyRange(41000)"
   ]
  },
  {
   "cell_type": "code",
   "execution_count": 9,
   "metadata": {
    "collapsed": false
   },
   "outputs": [],
   "source": [
    "#saving data\n",
    "#saveDFToFile(filmData)"
   ]
  },
  {
   "cell_type": "code",
   "execution_count": 10,
   "metadata": {
    "collapsed": false
   },
   "outputs": [],
   "source": [
    "#loading data from a file\n",
    "#getResfromPickle(\"./moviesID41000_42000.pkl\")"
   ]
  },
  {
   "cell_type": "markdown",
   "metadata": {},
   "source": [
    "# Using multiprocessing"
   ]
  },
  {
   "cell_type": "code",
   "execution_count": 11,
   "metadata": {
    "collapsed": false
   },
   "outputs": [],
   "source": [
    "#from multiprocessing import Pool\n",
    "#from multiprocessing.dummy import Pool as ThreadPool\n",
    "\n",
    "#pool = ThreadPool(8)"
   ]
  },
  {
   "cell_type": "code",
   "execution_count": 29,
   "metadata": {
    "collapsed": false
   },
   "outputs": [],
   "source": [
    "#a = [1000*i for i in range(200,225)]"
   ]
  },
  {
   "cell_type": "code",
   "execution_count": 1,
   "metadata": {
    "collapsed": false
   },
   "outputs": [],
   "source": [
    "#%%time\n",
    "#data = pool.map(getFilmsbyRange, a)"
   ]
  },
  {
   "cell_type": "code",
   "execution_count": 2,
   "metadata": {
    "collapsed": false
   },
   "outputs": [],
   "source": [
    "#for i in data:\n",
    "#    saveDFToFile(i)"
   ]
  },
  {
   "cell_type": "code",
   "execution_count": 32,
   "metadata": {
    "collapsed": false
   },
   "outputs": [],
   "source": [
    "#a = [1000*i for i in range(225,250)]"
   ]
  },
  {
   "cell_type": "code",
   "execution_count": 3,
   "metadata": {
    "collapsed": false
   },
   "outputs": [],
   "source": [
    "#%%time\n",
    "#data = pool.map(getFilmsbyRange, a)"
   ]
  },
  {
   "cell_type": "code",
   "execution_count": 4,
   "metadata": {
    "collapsed": false
   },
   "outputs": [],
   "source": [
    "#for i in data:\n",
    "#    saveDFToFile(i)"
   ]
  },
  {
   "cell_type": "code",
   "execution_count": 35,
   "metadata": {
    "collapsed": true
   },
   "outputs": [],
   "source": [
    "#a = [1000*i for i in range(250,275)]"
   ]
  },
  {
   "cell_type": "code",
   "execution_count": 5,
   "metadata": {
    "collapsed": false
   },
   "outputs": [],
   "source": [
    "#%%time\n",
    "#data = pool.map(getFilmsbyRange, a)"
   ]
  },
  {
   "cell_type": "code",
   "execution_count": null,
   "metadata": {
    "collapsed": true
   },
   "outputs": [],
   "source": [
    "#for i in data:\n",
    "#    saveDFToFile(i)"
   ]
  },
  {
   "cell_type": "code",
   "execution_count": null,
   "metadata": {
    "collapsed": true
   },
   "outputs": [],
   "source": [
    "#a = [1000*i for i in range(275,300)]"
   ]
  },
  {
   "cell_type": "code",
   "execution_count": null,
   "metadata": {
    "collapsed": true
   },
   "outputs": [],
   "source": [
    "#%%time\n",
    "#data = pool.map(getFilmsbyRange, a)"
   ]
  },
  {
   "cell_type": "code",
   "execution_count": null,
   "metadata": {
    "collapsed": true
   },
   "outputs": [],
   "source": [
    "#for i in data:\n",
    "    saveDFToFile(i)"
   ]
  },
  {
   "cell_type": "markdown",
   "metadata": {},
   "source": [
    "# Creating a final dataframe"
   ]
  },
  {
   "cell_type": "code",
   "execution_count": null,
   "metadata": {
    "collapsed": true
   },
   "outputs": [],
   "source": [
    "#import os"
   ]
  },
  {
   "cell_type": "code",
   "execution_count": null,
   "metadata": {
    "collapsed": false
   },
   "outputs": [],
   "source": [
    "#files = os.listdir(\"./data/\")"
   ]
  },
  {
   "cell_type": "code",
   "execution_count": null,
   "metadata": {
    "collapsed": false
   },
   "outputs": [],
   "source": [
    "#os.chdir(\"./data/\")\n",
    "#total_frame = pd.DataFrame(index=[0], columns=['FilmID'], data=[None])\n",
    "#for file in files:\n",
    "#    total_frame = total_frame.append(getResfromPickle(file))"
   ]
  },
  {
   "cell_type": "markdown",
   "metadata": {},
   "source": [
    "# Preprocessing data"
   ]
  },
  {
   "cell_type": "code",
   "execution_count": null,
   "metadata": {
    "collapsed": true
   },
   "outputs": [],
   "source": [
    "#import matplotlib.pyplot as plt\n",
    "#%matplotlib inline\n",
    "\n",
    "#import numpy as np"
   ]
  },
  {
   "cell_type": "code",
   "execution_count": null,
   "metadata": {
    "collapsed": false
   },
   "outputs": [],
   "source": [
    "#deleting unnecesary data\n",
    "#df = total_frame[total_frame.index != 0]"
   ]
  },
  {
   "cell_type": "code",
   "execution_count": null,
   "metadata": {
    "collapsed": true
   },
   "outputs": [],
   "source": [
    "#def fromStrToNum(string):\n",
    "#    return int(string.replace(\" \", \"\"))"
   ]
  },
  {
   "cell_type": "code",
   "execution_count": null,
   "metadata": {
    "collapsed": false
   },
   "outputs": [],
   "source": [
    "#исправляем данные о бюджете, кассовых сборах там, где тип данных object\n",
    "#moneyData = ['budget', 'grossRU', 'grossUSA', 'grossWorld']\n",
    "\n",
    "#def repairMoney(moneyData = moneyData):\n",
    "#    global df\n",
    "#    for colname in moneyData:\n",
    "#        df[colname] = df[df[colname].isnull() == False][colname].apply(fromStrToNum)"
   ]
  },
  {
   "cell_type": "code",
   "execution_count": null,
   "metadata": {
    "collapsed": false
   },
   "outputs": [],
   "source": [
    "#repairMoney()"
   ]
  },
  {
   "cell_type": "code",
   "execution_count": null,
   "metadata": {
    "collapsed": false
   },
   "outputs": [],
   "source": [
    "#df.dtypes"
   ]
  },
  {
   "cell_type": "code",
   "execution_count": null,
   "metadata": {
    "collapsed": false
   },
   "outputs": [],
   "source": [
    "#df[df['budget'] > 4000000]"
   ]
  },
  {
   "cell_type": "code",
   "execution_count": null,
   "metadata": {
    "collapsed": false
   },
   "outputs": [],
   "source": [
    "#total_frame.to_csv(\"../totalFrame.csv\")"
   ]
  }
 ],
 "metadata": {
  "kernelspec": {
   "display_name": "Python 3",
   "language": "python",
   "name": "python3"
  },
  "language_info": {
   "codemirror_mode": {
    "name": "ipython",
    "version": 3
   },
   "file_extension": ".py",
   "mimetype": "text/x-python",
   "name": "python",
   "nbconvert_exporter": "python",
   "pygments_lexer": "ipython3",
   "version": "3.5.1"
  }
 },
 "nbformat": 4,
 "nbformat_minor": 0
}
