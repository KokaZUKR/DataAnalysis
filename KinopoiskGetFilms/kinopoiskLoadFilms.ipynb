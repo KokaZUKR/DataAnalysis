{
 "cells": [
  {
   "cell_type": "code",
   "execution_count": 1,
   "metadata": {
    "collapsed": true
   },
   "outputs": [],
   "source": [
    "import json\n",
    "import urllib.request\n",
    "import pandas as pd\n",
    "import numpy as np"
   ]
  },
  {
   "cell_type": "code",
   "execution_count": 2,
   "metadata": {
    "collapsed": false
   },
   "outputs": [
    {
     "name": "stdout",
     "output_type": "stream",
     "text": [
      "['ratingMPAA', 'budgetData', 'ratingData', 'is3D', 'posterURL', 'webURL', 'filmLength', 'ratingAgeLimits', 'videoURL', 'genre', 'nameEN', 'hasSeance', 'isHasSimilarFilms', 'filmID', 'reviewsCount', 'country', 'isIMAX', 'isHasSequelsAndPrequelsFilms', 'rentData']\n"
     ]
    }
   ],
   "source": [
    "#creating a vector containing the columns names of a DataFrame\n",
    "names = ['ratingMPAA', 'budgetData', 'ratingData', \n",
    "         'is3D', 'posterURL', 'webURL', 'filmLength', \n",
    "         'ratingAgeLimits', 'videoURL', 'genre', 'nameEN', 'hasSeance', 'isHasSimilarFilms', \n",
    "         'filmID', 'reviewsCount', 'country', 'isIMAX', 'isHasSequelsAndPrequelsFilms', 'rentData', \n",
    "         ]\n",
    "print(names)"
   ]
  },
  {
   "cell_type": "code",
   "execution_count": 3,
   "metadata": {
    "collapsed": false
   },
   "outputs": [],
   "source": [
    "#Write a function to get the data about the Film by ID\n",
    "def getFilm(id):\n",
    "    \"\"\"\n",
    "    Input: kinopoisk ID of the Movie\n",
    "    Output: JSON object\n",
    "    \"\"\"\n",
    "    URL = 'http://api.kinopoisk.cf/getFilm?filmID=%s'%id\n",
    "    result = urllib.request.urlopen(URL)\n",
    "    encoding = 'utf-8'\n",
    "    json_text = result.read().decode(encoding)\n",
    "    if json_text == 'null':\n",
    "        return None\n",
    "    else:\n",
    "        return json.loads(json_text)"
   ]
  },
  {
   "cell_type": "code",
   "execution_count": 4,
   "metadata": {
    "collapsed": false
   },
   "outputs": [],
   "source": [
    "#Write a function that creates a DataFrame based on JSON object\n",
    "def totalDataSet(json_file, filmId):\n",
    "    \"\"\"\n",
    "    Input: JSON file containing an information about the Film, kinopoisk ID of the Movie\n",
    "    Output: Pandas DataFrame    \n",
    "    \"\"\"\n",
    "    totalFrame = pd.DataFrame(index=[filmId], columns=['FilmID'], data=[filmId])\n",
    "    for name in names:\n",
    "        if name not in json_file.keys():\n",
    "            if name in ['budgetData', 'ratingData', 'rentData']:\n",
    "                data = pd.DataFrame([\"NaN\"], index=[filmId])\n",
    "                totalFrame = pd.concat([totalFrame, data], axis=1)\n",
    "            else:\n",
    "                data = pd.DataFrame([\"NaN\"], index=[filmId], columns=[name])\n",
    "                totalFrame = pd.concat([totalFrame, data], axis=1)\n",
    "        elif name in ['budgetData', 'ratingData', 'rentData', ]:\n",
    "            data = pd.DataFrame(json_file[name], index=[filmId])\n",
    "            totalFrame = pd.concat([totalFrame, data], axis=1)\n",
    "        else:\n",
    "            data = pd.DataFrame(json_file[name], index=[filmId], columns=[name])\n",
    "            totalFrame = pd.concat([totalFrame, data], axis=1)\n",
    "    return totalFrame"
   ]
  },
  {
   "cell_type": "code",
   "execution_count": 62,
   "metadata": {
    "collapsed": false
   },
   "outputs": [],
   "source": [
    "def getFilmsbyRange(startId):\n",
    "    \"\"\"\n",
    "    Getting data for the films with ID between [startId, endId) and returning a tuple (df, filename)\n",
    "    Input: startId, endId\n",
    "    Output: file containing the dataframe\n",
    "    \"\"\"\n",
    "    endId = startId + 1000\n",
    "    filename = \"moviesID%s_%s.pkl\"%(startId, endId)\n",
    "    frame_to_save = pd.DataFrame(index=[0], columns=['FilmID'], data=[None])\n",
    "    for i in range(startId, endId):\n",
    "        json_film = getFilm(i)\n",
    "        #print(json_film)\n",
    "        if json_film is None:\n",
    "            break\n",
    "        df_film = totalDataSet(json_film, i)\n",
    "        if df_film is not None:\n",
    "            if 0 in df_film.columns:\n",
    "                df_film = df_film.drop(0, 1)\n",
    "            df_film.drop_duplicates(keep=False)\n",
    "        frame_to_save = frame_to_save.append(df_film)\n",
    "    print(frame_to_save)\n",
    "    return (frame_to_save, filename)"
   ]
  },
  {
   "cell_type": "code",
   "execution_count": 49,
   "metadata": {
    "collapsed": true
   },
   "outputs": [],
   "source": [
    "def saveDFToFile(data):\n",
    "    \"\"\"\n",
    "    Input: tuple (df, filename), where df is a dataframe\n",
    "    Output: file containing the df\n",
    "    \"\"\"\n",
    "    filename = data[1]\n",
    "    dataframe = data[0]\n",
    "    import pickle\n",
    "    file = open(filename, 'wb')\n",
    "    pickle.dump(dataframe, file)\n",
    "    file.close()\n",
    "    print(\"Everything is fine. Data is saved.\")"
   ]
  },
  {
   "cell_type": "code",
   "execution_count": 50,
   "metadata": {
    "collapsed": true
   },
   "outputs": [],
   "source": [
    "def getResfromPickle(filename):\n",
    "    \"\"\"\n",
    "    Simply opens a file and loads a dataframe from it\n",
    "    Input: filename\n",
    "    Output: dataframe\n",
    "    \"\"\"\n",
    "    import pickle\n",
    "    file = open(filename, 'rb')\n",
    "    resultDF = pickle.load(file)\n",
    "    file.close()\n",
    "    return resultDF"
   ]
  },
  {
   "cell_type": "code",
   "execution_count": 25,
   "metadata": {
    "collapsed": false
   },
   "outputs": [
    {
     "ename": "NameError",
     "evalue": "name 'get1000films' is not defined",
     "output_type": "error",
     "traceback": [
      "\u001b[1;31m---------------------------------------------------------------------------\u001b[0m",
      "\u001b[1;31mNameError\u001b[0m                                 Traceback (most recent call last)",
      "\u001b[1;32m<ipython-input-25-a8e7cecf11ae>\u001b[0m in \u001b[0;36m<module>\u001b[1;34m()\u001b[0m\n\u001b[0;32m      1\u001b[0m \u001b[1;31m#example usage. Getting films from 1000 to 2000\u001b[0m\u001b[1;33m\u001b[0m\u001b[1;33m\u001b[0m\u001b[0m\n\u001b[1;32m----> 2\u001b[1;33m \u001b[0mfilmData\u001b[0m \u001b[1;33m=\u001b[0m \u001b[0mget1000films\u001b[0m\u001b[1;33m(\u001b[0m\u001b[1;36m1000\u001b[0m\u001b[1;33m,\u001b[0m \u001b[1;36m2000\u001b[0m\u001b[1;33m)\u001b[0m\u001b[1;33m\u001b[0m\u001b[0m\n\u001b[0m",
      "\u001b[1;31mNameError\u001b[0m: name 'get1000films' is not defined"
     ]
    }
   ],
   "source": [
    "#example usage. Getting films from 1000 to 2000\n",
    "filmData = getFilmsbyRange(1000, 2000)"
   ]
  },
  {
   "cell_type": "code",
   "execution_count": 9,
   "metadata": {
    "collapsed": false
   },
   "outputs": [],
   "source": [
    "#saving data\n",
    "#saveDFToFile(filmData)"
   ]
  },
  {
   "cell_type": "code",
   "execution_count": 10,
   "metadata": {
    "collapsed": false
   },
   "outputs": [],
   "source": [
    "#loading data from a file\n",
    "#getResfromPickle(\"./moviesID1100_1150.pkl\").head()"
   ]
  },
  {
   "cell_type": "markdown",
   "metadata": {},
   "source": [
    "# Using multiprocessing"
   ]
  },
  {
   "cell_type": "code",
   "execution_count": 97,
   "metadata": {
    "collapsed": false
   },
   "outputs": [],
   "source": [
    "#from multiprocessing import Pool\n",
    "#from multiprocessing.dummy import Pool as ThreadPool\n",
    "\n",
    "#pool = ThreadPool(8)"
   ]
  },
  {
   "cell_type": "code",
   "execution_count": 96,
   "metadata": {
    "collapsed": false
   },
   "outputs": [],
   "source": [
    "#a = [1000*i for i in range(700,900)]\n",
    "#a"
   ]
  },
  {
   "cell_type": "code",
   "execution_count": 130,
   "metadata": {
    "collapsed": false
   },
   "outputs": [],
   "source": [
    "#%%time\n",
    "#data = pool.map(getFilmsbyRange, [0, 1000])"
   ]
  },
  {
   "cell_type": "code",
   "execution_count": 131,
   "metadata": {
    "collapsed": false
   },
   "outputs": [],
   "source": [
    "#for i in data:\n",
    "#    saveDFToFile(i)"
   ]
  },
  {
   "cell_type": "code",
   "execution_count": 132,
   "metadata": {
    "collapsed": false
   },
   "outputs": [],
   "source": [
    "#getResfromPickle(\"./moviesID439000_440000.pkl\").head()"
   ]
  },
  {
   "cell_type": "markdown",
   "metadata": {},
   "source": [
    "# Creating a final dataframe"
   ]
  },
  {
   "cell_type": "code",
   "execution_count": 99,
   "metadata": {
    "collapsed": true
   },
   "outputs": [],
   "source": [
    "import os"
   ]
  },
  {
   "cell_type": "code",
   "execution_count": 101,
   "metadata": {
    "collapsed": false
   },
   "outputs": [],
   "source": [
    "files = os.listdir(\"./data/\")"
   ]
  },
  {
   "cell_type": "code",
   "execution_count": 133,
   "metadata": {
    "collapsed": false
   },
   "outputs": [],
   "source": [
    "#os.chdir(\"./data/\")\n",
    "#total_frame = pd.DataFrame(index=[0], columns=['FilmID'], data=[None])\n",
    "#for file in files:\n",
    "#    total_frame = total_frame.append(getResfromPickle(file))"
   ]
  },
  {
   "cell_type": "markdown",
   "metadata": {},
   "source": [
    "# Preprocessing data"
   ]
  },
  {
   "cell_type": "code",
   "execution_count": 134,
   "metadata": {
    "collapsed": false
   },
   "outputs": [],
   "source": [
    "#deleting unnecesary data\n",
    "df = total_frame[total_frame.index != 0]"
   ]
  },
  {
   "cell_type": "code",
   "execution_count": 157,
   "metadata": {
    "collapsed": false
   },
   "outputs": [
    {
     "data": {
      "text/plain": [
       "array([nan, 'Lizard Cinema', 'Каскад', 'Пирамида', 'West',\n",
       "       'Централ Партнершип', 'Фокс/Гемини', 'Кармен Фильм',\n",
       "       'Кино без границ', 'Люксор', 'Интерсинема-Арт', 'Пан Терра',\n",
       "       'Вольга', 'Каро-Премьер', 'Алхимия-Фильм', 'Панорама',\n",
       "       'Utopia Pictures', 'WDSSPR', 'BVSPR Sony', 'Никола-фильм',\n",
       "       'Алмазфильм', 'Гельварс', 'Русский Репортаж', 'Парадиз',\n",
       "       'Гемини Киномир', 'ЛеопАрт', 'Премиум Фильм',\n",
       "       'Видеоимпульс, Старлет-Медиа', 'Наше Кино', 'UPI', 'АКМ',\n",
       "       'Двадцатый Век Фокс СНГ', 'Top Film Distribution', 'UIP',\n",
       "       'Двадцатый Век Фокс СНГ, A Company', 'Reanimedia', 'Kazak Film',\n",
       "       'Project Manometr', 'Russian World Vision', 'Ракета Релизинг',\n",
       "       'All Media', 'Cinema Prestige', 'Централ Партнершип Classic',\n",
       "       'Свой почерк', 'DreamTeam',\n",
       "       'Двадцатый Век Фокс СНГ, Bazelevs Distribution',\n",
       "       'Bazelevs Distribution', '25th Floor Film', 'Артхаус',\n",
       "       'CoolConnections', 'Каропрокат'], dtype=object)"
      ]
     },
     "execution_count": 157,
     "metadata": {},
     "output_type": "execute_result"
    }
   ],
   "source": [
    "#getting unique distributors\n",
    "distributors = pd.unique(df['Distributors'].values)\n",
    "distributors"
   ]
  },
  {
   "cell_type": "code",
   "execution_count": 164,
   "metadata": {
    "collapsed": false
   },
   "outputs": [
    {
     "data": {
      "text/plain": [
       "array(['Япония', 'Китай', 'Индия', ..., 'Греция, Германия (ФРГ)',\n",
       "       'Канада, Германия (ФРГ), Франция', 'Югославия, Германия (ФРГ)'], dtype=object)"
      ]
     },
     "execution_count": 164,
     "metadata": {},
     "output_type": "execute_result"
    }
   ],
   "source": [
    "pd.unique(df['country'].values)"
   ]
  },
  {
   "cell_type": "code",
   "execution_count": 190,
   "metadata": {
    "collapsed": false
   },
   "outputs": [],
   "source": [
    "filmsRussia = df[df['country'] == 'Россия']"
   ]
  },
  {
   "cell_type": "code",
   "execution_count": 202,
   "metadata": {
    "collapsed": false
   },
   "outputs": [],
   "source": [
    "df = df[df['budget'].notnull()]"
   ]
  },
  {
   "cell_type": "code",
   "execution_count": 205,
   "metadata": {
    "collapsed": false
   },
   "outputs": [],
   "source": [
    "#df['budget']"
   ]
  },
  {
   "cell_type": "code",
   "execution_count": 207,
   "metadata": {
    "collapsed": true
   },
   "outputs": [],
   "source": [
    "def fromStrToNum(string):\n",
    "    return int(string.replace(\" \", \"\"))"
   ]
  },
  {
   "cell_type": "code",
   "execution_count": null,
   "metadata": {
    "collapsed": true
   },
   "outputs": [],
   "source": [
    "for raw in df['budget'].values:\n",
    "    df['budget_edited'] = "
   ]
  },
  {
   "cell_type": "code",
   "execution_count": 170,
   "metadata": {
    "collapsed": false
   },
   "outputs": [],
   "source": [
    "rusFilmsBudget = filmsRussia['budget'].dropna()"
   ]
  },
  {
   "cell_type": "code",
   "execution_count": 171,
   "metadata": {
    "collapsed": true
   },
   "outputs": [],
   "source": [
    "import matplotlib.pyplot as plt\n",
    "%matplotlib inline"
   ]
  },
  {
   "cell_type": "code",
   "execution_count": 186,
   "metadata": {
    "collapsed": false
   },
   "outputs": [],
   "source": [
    "ruFilmBudget = []\n",
    "for film in rusFilmsBudget:\n",
    "    ruFilmBudget.append(int(film.replace(\" \", \"\")))"
   ]
  },
  {
   "cell_type": "code",
   "execution_count": 189,
   "metadata": {
    "collapsed": false
   },
   "outputs": [
    {
     "data": {
      "text/plain": [
       "(array([ 7.,  3.,  4.,  4.,  1.,  3.,  1.,  0.,  0.,  0.,  0.,  0.,  0.,\n",
       "         0.,  0.,  0.,  0.,  0.,  0.,  0.,  0.,  0.,  0.,  0.,  0.,  0.,\n",
       "         0.,  0.,  0.,  0.,  0.,  0.,  0.,  0.,  0.,  0.,  0.,  0.,  0.,\n",
       "         0.,  0.,  0.,  0.,  0.,  0.,  0.,  0.,  0.,  0.,  0.,  0.,  0.,\n",
       "         0.,  0.,  0.,  0.,  0.,  0.,  0.,  1.]),\n",
       " array([  2.00000000e+01,   7.50019667e+05,   1.50001933e+06,\n",
       "          2.25001900e+06,   3.00001867e+06,   3.75001833e+06,\n",
       "          4.50001800e+06,   5.25001767e+06,   6.00001733e+06,\n",
       "          6.75001700e+06,   7.50001667e+06,   8.25001633e+06,\n",
       "          9.00001600e+06,   9.75001567e+06,   1.05000153e+07,\n",
       "          1.12500150e+07,   1.20000147e+07,   1.27500143e+07,\n",
       "          1.35000140e+07,   1.42500137e+07,   1.50000133e+07,\n",
       "          1.57500130e+07,   1.65000127e+07,   1.72500123e+07,\n",
       "          1.80000120e+07,   1.87500117e+07,   1.95000113e+07,\n",
       "          2.02500110e+07,   2.10000107e+07,   2.17500103e+07,\n",
       "          2.25000100e+07,   2.32500097e+07,   2.40000093e+07,\n",
       "          2.47500090e+07,   2.55000087e+07,   2.62500083e+07,\n",
       "          2.70000080e+07,   2.77500077e+07,   2.85000073e+07,\n",
       "          2.92500070e+07,   3.00000067e+07,   3.07500063e+07,\n",
       "          3.15000060e+07,   3.22500057e+07,   3.30000053e+07,\n",
       "          3.37500050e+07,   3.45000047e+07,   3.52500043e+07,\n",
       "          3.60000040e+07,   3.67500037e+07,   3.75000033e+07,\n",
       "          3.82500030e+07,   3.90000027e+07,   3.97500023e+07,\n",
       "          4.05000020e+07,   4.12500017e+07,   4.20000013e+07,\n",
       "          4.27500010e+07,   4.35000007e+07,   4.42500003e+07,\n",
       "          4.50000000e+07]),\n",
       " <a list of 60 Patch objects>)"
      ]
     },
     "execution_count": 189,
     "metadata": {},
     "output_type": "execute_result"
    },
    {
     "data": {
      "image/png": "[encoded data removed]",
      "text/plain": [
       "<matplotlib.figure.Figure at 0x25b9883898>"
      ]
     },
     "metadata": {},
     "output_type": "display_data"
    }
   ],
   "source": [
    "plt.hist(ruFilmBudget, bins=60)"
   ]
  },
  {
   "cell_type": "code",
   "execution_count": 215,
   "metadata": {
    "collapsed": false
   },
   "outputs": [],
   "source": [
    "df['budget'] = df['budget'].apply(fromStrToNum)"
   ]
  },
  {
   "cell_type": "code",
   "execution_count": 219,
   "metadata": {
    "collapsed": false
   },
   "outputs": [],
   "source": [
    "ruFilmBudget = df[df['country'] == \"Россия\"]"
   ]
  },
  {
   "cell_type": "code",
   "execution_count": 220,
   "metadata": {
    "collapsed": false
   },
   "outputs": [
    {
     "data": {
      "text/plain": [
       "(array([ 22.,   1.,   0.,   0.,   0.,   0.,   0.,   0.,   0.,   1.]),\n",
       " array([  2.00000000e+01,   4.50001800e+06,   9.00001600e+06,\n",
       "          1.35000140e+07,   1.80000120e+07,   2.25000100e+07,\n",
       "          2.70000080e+07,   3.15000060e+07,   3.60000040e+07,\n",
       "          4.05000020e+07,   4.50000000e+07]),\n",
       " <a list of 10 Patch objects>)"
      ]
     },
     "execution_count": 220,
     "metadata": {},
     "output_type": "execute_result"
    },
    {
     "data": {
      "image/png": "[encoded data removed]",
      "text/plain": [
       "<matplotlib.figure.Figure at 0x25b920dcf8>"
      ]
     },
     "metadata": {},
     "output_type": "display_data"
    }
   ],
   "source": [
    "plt.hist(ruFilmBudget['budget'].values)"
   ]
  },
  {
   "cell_type": "code",
   "execution_count": 221,
   "metadata": {
    "collapsed": false
   },
   "outputs": [
    {
     "data": {
      "text/html": [
       "<div>\n",
       "<table border=\"1\" class=\"dataframe\">\n",
       "  <thead>\n",
       "    <tr style=\"text-align: right;\">\n",
       "      <th></th>\n",
       "      <th>Distributors</th>\n",
       "      <th>FilmID</th>\n",
       "      <th>budget</th>\n",
       "      <th>country</th>\n",
       "      <th>distributorRelease</th>\n",
       "      <th>filmID</th>\n",
       "      <th>filmLength</th>\n",
       "      <th>genre</th>\n",
       "      <th>grossRU</th>\n",
       "      <th>grossUSA</th>\n",
       "      <th>...</th>\n",
       "      <th>ratingFilmCriticsVoteCount</th>\n",
       "      <th>ratingGoodReview</th>\n",
       "      <th>ratingGoodReviewVoteCount</th>\n",
       "      <th>ratingIMDb</th>\n",
       "      <th>ratingIMDbVoteCount</th>\n",
       "      <th>ratingMPAA</th>\n",
       "      <th>ratingVoteCount</th>\n",
       "      <th>reviewsCount</th>\n",
       "      <th>videoURL</th>\n",
       "      <th>webURL</th>\n",
       "    </tr>\n",
       "  </thead>\n",
       "  <tbody>\n",
       "    <tr>\n",
       "      <th>225011</th>\n",
       "      <td>Интерсинема-Арт</td>\n",
       "      <td>225011</td>\n",
       "      <td>4500000</td>\n",
       "      <td>Россия</td>\n",
       "      <td>Союз-Видео</td>\n",
       "      <td>225011</td>\n",
       "      <td>2:30</td>\n",
       "      <td>драма</td>\n",
       "      <td>330 900</td>\n",
       "      <td>NaN</td>\n",
       "      <td>...</td>\n",
       "      <td>17</td>\n",
       "      <td>86%</td>\n",
       "      <td>54</td>\n",
       "      <td>7.7</td>\n",
       "      <td>4 626</td>\n",
       "      <td>NaN</td>\n",
       "      <td>7 932</td>\n",
       "      <td>76</td>\n",
       "      <td>http://kp.cdn.yandex.net/trailers/225011/kinop...</td>\n",
       "      <td>http://www.kinopoisk.ru/film/225011/</td>\n",
       "    </tr>\n",
       "    <tr>\n",
       "      <th>41010</th>\n",
       "      <td>Централ Партнершип</td>\n",
       "      <td>41010</td>\n",
       "      <td>5000000</td>\n",
       "      <td>Россия</td>\n",
       "      <td>CP-Digital</td>\n",
       "      <td>41010</td>\n",
       "      <td>1:54</td>\n",
       "      <td>боевик, криминал</td>\n",
       "      <td>340 312</td>\n",
       "      <td>NaN</td>\n",
       "      <td>...</td>\n",
       "      <td>NaN</td>\n",
       "      <td>65.2%</td>\n",
       "      <td>12</td>\n",
       "      <td>5.6</td>\n",
       "      <td>1 242</td>\n",
       "      <td>NaN</td>\n",
       "      <td>11 458</td>\n",
       "      <td>24</td>\n",
       "      <td>http://kp.cdn.yandex.net/trailers/41010/kinopo...</td>\n",
       "      <td>http://www.kinopoisk.ru/film/41010/</td>\n",
       "    </tr>\n",
       "    <tr>\n",
       "      <th>481101</th>\n",
       "      <td>Централ Партнершип</td>\n",
       "      <td>481101</td>\n",
       "      <td>45000000</td>\n",
       "      <td>Россия</td>\n",
       "      <td>Монолит</td>\n",
       "      <td>481101</td>\n",
       "      <td>2:37</td>\n",
       "      <td>драма, военный</td>\n",
       "      <td>1 521 195</td>\n",
       "      <td>NaN</td>\n",
       "      <td>...</td>\n",
       "      <td>NaN</td>\n",
       "      <td>46.7%</td>\n",
       "      <td>55</td>\n",
       "      <td>4.0</td>\n",
       "      <td>1 236</td>\n",
       "      <td>NaN</td>\n",
       "      <td>17 624</td>\n",
       "      <td>135</td>\n",
       "      <td>http://kp.cdn.yandex.net/trailers/481101/kinop...</td>\n",
       "      <td>http://www.kinopoisk.ru/film/481101/</td>\n",
       "    </tr>\n",
       "    <tr>\n",
       "      <th>771011</th>\n",
       "      <td>NaN</td>\n",
       "      <td>771011</td>\n",
       "      <td>4500000</td>\n",
       "      <td>Россия</td>\n",
       "      <td>NaN</td>\n",
       "      <td>771011</td>\n",
       "      <td>NaN</td>\n",
       "      <td>мелодрама, комедия</td>\n",
       "      <td>NaN</td>\n",
       "      <td>NaN</td>\n",
       "      <td>...</td>\n",
       "      <td>NaN</td>\n",
       "      <td>NaN</td>\n",
       "      <td>NaN</td>\n",
       "      <td>NaN</td>\n",
       "      <td>NaN</td>\n",
       "      <td>NaN</td>\n",
       "      <td>NaN</td>\n",
       "      <td>NaN</td>\n",
       "      <td>NaN</td>\n",
       "      <td>http://www.kinopoisk.ru/film/771011/</td>\n",
       "    </tr>\n",
       "  </tbody>\n",
       "</table>\n",
       "<p>4 rows × 38 columns</p>\n",
       "</div>"
      ],
      "text/plain": [
       "              Distributors  FilmID    budget country distributorRelease  \\\n",
       "225011     Интерсинема-Арт  225011   4500000  Россия         Союз-Видео   \n",
       "41010   Централ Партнершип   41010   5000000  Россия         CP-Digital   \n",
       "481101  Централ Партнершип  481101  45000000  Россия            Монолит   \n",
       "771011                 NaN  771011   4500000  Россия                NaN   \n",
       "\n",
       "        filmID filmLength               genre    grossRU grossUSA  \\\n",
       "225011  225011       2:30               драма    330 900      NaN   \n",
       "41010    41010       1:54    боевик, криминал    340 312      NaN   \n",
       "481101  481101       2:37      драма, военный  1 521 195      NaN   \n",
       "771011  771011        NaN  мелодрама, комедия        NaN      NaN   \n",
       "\n",
       "                        ...                  ratingFilmCriticsVoteCount  \\\n",
       "225011                  ...                                          17   \n",
       "41010                   ...                                         NaN   \n",
       "481101                  ...                                         NaN   \n",
       "771011                  ...                                         NaN   \n",
       "\n",
       "       ratingGoodReview ratingGoodReviewVoteCount ratingIMDb  \\\n",
       "225011              86%                        54        7.7   \n",
       "41010             65.2%                        12        5.6   \n",
       "481101            46.7%                        55        4.0   \n",
       "771011              NaN                       NaN        NaN   \n",
       "\n",
       "       ratingIMDbVoteCount ratingMPAA ratingVoteCount reviewsCount  \\\n",
       "225011               4 626        NaN           7 932           76   \n",
       "41010                1 242        NaN          11 458           24   \n",
       "481101               1 236        NaN          17 624          135   \n",
       "771011                 NaN        NaN             NaN          NaN   \n",
       "\n",
       "                                                 videoURL  \\\n",
       "225011  http://kp.cdn.yandex.net/trailers/225011/kinop...   \n",
       "41010   http://kp.cdn.yandex.net/trailers/41010/kinopo...   \n",
       "481101  http://kp.cdn.yandex.net/trailers/481101/kinop...   \n",
       "771011                                                NaN   \n",
       "\n",
       "                                      webURL  \n",
       "225011  http://www.kinopoisk.ru/film/225011/  \n",
       "41010    http://www.kinopoisk.ru/film/41010/  \n",
       "481101  http://www.kinopoisk.ru/film/481101/  \n",
       "771011  http://www.kinopoisk.ru/film/771011/  \n",
       "\n",
       "[4 rows x 38 columns]"
      ]
     },
     "execution_count": 221,
     "metadata": {},
     "output_type": "execute_result"
    }
   ],
   "source": [
    "ruFilmBudget[ruFilmBudget['budget'] > 4000000]"
   ]
  },
  {
   "cell_type": "code",
   "execution_count": 223,
   "metadata": {
    "collapsed": false
   },
   "outputs": [],
   "source": [
    "total_frame.to_csv(\"../totalFrame.csv\")"
   ]
  },
  {
   "cell_type": "code",
   "execution_count": null,
   "metadata": {
    "collapsed": true
   },
   "outputs": [],
   "source": []
  }
 ],
 "metadata": {
  "kernelspec": {
   "display_name": "Python 3",
   "language": "python",
   "name": "python3"
  },
  "language_info": {
   "codemirror_mode": {
    "name": "ipython",
    "version": 3
   },
   "file_extension": ".py",
   "mimetype": "text/x-python",
   "name": "python",
   "nbconvert_exporter": "python",
   "pygments_lexer": "ipython3",
   "version": "3.5.1"
  }
 },
 "nbformat": 4,
 "nbformat_minor": 0
}
